{
 "cells": [
  {
   "cell_type": "markdown",
   "id": "b470f4c3-af58-459a-99f3-0f05369a487f",
   "metadata": {},
   "source": [
    "# Part b: Suppose the input graph G = (V, E) is stored in an array of adjacency lists and we use a minimizing heap for the priority queue."
   ]
  },
  {
   "cell_type": "code",
   "execution_count": 4,
   "id": "0faf8db8",
   "metadata": {},
   "outputs": [],
   "source": [
    "import heapq\n",
    "import random\n",
    "\n",
    "def create_adjacency_list_onePath(num_nodes):\n",
    "    adjacency_list = {}\n",
    "    for i in range(num_nodes - 1):\n",
    "        u = str(i)\n",
    "        v = str(i + 1)\n",
    "        weight = 1  # You can adjust the weight as needed\n",
    "        if u not in adjacency_list:\n",
    "            adjacency_list[u] = []\n",
    "        if v not in adjacency_list:\n",
    "            adjacency_list[v] = []\n",
    "        adjacency_list[u].append((v, weight))\n",
    "        adjacency_list[v].append((u, weight))  # If the graph is undirected\n",
    "    return adjacency_list\n",
    "    \n",
    "# def create_adjacency_list_random(num_nodes, num_edges):\n",
    "#     edges = []\n",
    "#     for edge in range(num_edges):\n",
    "#         u = str(random.randint(0, num_nodes - 1))\n",
    "#         v = str(random.randint(0, num_nodes - 1))\n",
    "#         weight = 1  # Random weight between 1 and 10 (you can adjust this range)\n",
    "#         edges.append((u, v, weight))\n",
    "#     adjacency_list = {}\n",
    "#     for edge in edges:\n",
    "#         u, v, weight = edge\n",
    "#         if u not in adjacency_list:\n",
    "#             adjacency_list[u] = []\n",
    "#         if v not in adjacency_list:\n",
    "#             adjacency_list[v] = []\n",
    "#         if (u, weight) not in adjacency_list[v]:\n",
    "#             adjacency_list[u].append((v, weight))\n",
    "#             adjacency_list[v].append((u, weight))  # If the graph is undirected\n",
    "#     return adjacency_list\n",
    "\n",
    "def create_adjacency_list_random(num_nodes):\n",
    "    edges = []\n",
    "    for i in range(num_nodes):\n",
    "        for j in range(i + 1, num_nodes):\n",
    "            weight = 1  # Random weight between 1 and 10 (you can adjust this range)\n",
    "            edges.append((str(i), str(j), weight))\n",
    "    adjacency_list = {}\n",
    "    for edge in edges:\n",
    "        u, v, weight = edge\n",
    "        if u not in adjacency_list:\n",
    "            adjacency_list[u] = []\n",
    "        if v not in adjacency_list:\n",
    "            adjacency_list[v] = []\n",
    "        adjacency_list[u].append((v, weight))\n",
    "        adjacency_list[v].append((u, weight))  # If the graph is undirected\n",
    "    return adjacency_list\n",
    "\n",
    "\n",
    "def create_adjacency_list_fullyConnected(num_nodes):\n",
    "    adjacency_list = {}\n",
    "    for i in range(num_nodes):\n",
    "        u = str(i)\n",
    "        adjacency_list[u] = []\n",
    "        for j in range(num_nodes):\n",
    "            if i != j:\n",
    "                v = str(j)\n",
    "                weight = 1  # You can adjust the weight as needed\n",
    "                adjacency_list[u].append((v, weight))\n",
    "    return adjacency_list\n",
    "\n",
    "def dijkstra(graph, source):\n",
    "    distances = {vertex: float('inf') for vertex in graph}\n",
    "    distances[source] = 0\n",
    "    \n",
    "    priority_queue = [(0, source)]\n",
    "    \n",
    "    while priority_queue:\n",
    "        current_distance, current_vertex = heapq.heappop(priority_queue)\n",
    "        \n",
    "        if current_distance > distances[current_vertex]:\n",
    "            continue\n",
    "        \n",
    "        for neighbor, weight in graph[current_vertex]:\n",
    "            distance = current_distance + weight\n",
    "            \n",
    "            if distance < distances[neighbor]:\n",
    "                distances[neighbor] = distance\n",
    "                heapq.heappush(priority_queue, (distance, neighbor))\n",
    "    \n",
    "    return distances"
   ]
  },
  {
   "cell_type": "code",
   "execution_count": 141,
   "id": "3526d53b-778c-4f90-9ddd-91a120e96051",
   "metadata": {},
   "outputs": [],
   "source": [
    "# edges = [\n",
    "#     ('A', 'B', 1),\n",
    "#     ('A', 'C', 4),\n",
    "#     ('B', 'C', 2),\n",
    "#     ('B', 'D', 5),\n",
    "#     ('C', 'D', 1)\n",
    "# ]\n",
    "\n",
    "\n",
    "graph_adjacency_list = create_adjacency_list_random(50,30)\n",
    "#print(graph_adjacency_list)\n",
    "source_vertex = '1'\n",
    "#print(type(source_vertex))\n",
    "shortest_distances = dijkstra(graph_adjacency_list, source_vertex)\n",
    "#print(shortest_distances)"
   ]
  },
  {
   "cell_type": "markdown",
   "id": "dab9fe2a",
   "metadata": {},
   "source": [
    " Now we have completed the function with array for adjacency matrix, lets find the time complexity using average, best and worst cases of matrices. To do that we shall first import our generated graphs."
   ]
  },
  {
   "cell_type": "code",
   "execution_count": 10,
   "id": "cda87464-37a2-49be-8278-c36b0f6623ab",
   "metadata": {},
   "outputs": [],
   "source": [
    "import time"
   ]
  },
  {
   "cell_type": "code",
   "execution_count": 8,
   "id": "1509b665-a0cb-45ed-a24d-57d622893e75",
   "metadata": {},
   "outputs": [],
   "source": [
    "# Function to generate a graph with V vertices and E edges, and measure the execution time of Dijkstra's algorithm\n",
    "def time_dijkstra(graph):\n",
    "\n",
    "    start_time = time.time()\n",
    "    comparisons = dijkstra(graph, '0')\n",
    "    end_time = time.time()\n",
    "\n",
    "    return (end_time - start_time)"
   ]
  },
  {
   "cell_type": "code",
   "execution_count": 93,
   "id": "2fcc78ad",
   "metadata": {},
   "outputs": [],
   "source": [
    "# Import Libraries\n",
    "import numpy as np\n",
    "import pandas as pd\n",
    "import sys\n",
    "import timeit\n",
    "import seaborn as sb\n",
    "import matplotlib.pyplot as plt"
   ]
  },
  {
   "cell_type": "code",
   "execution_count": null,
   "id": "a78cc681-032a-4de1-ac7a-06eca6c4a7a2",
   "metadata": {},
   "outputs": [],
   "source": [
    "times = []\n",
    "for V in range (100,2000):\n",
    "    graph = create_adjacency_list_random(V)    \n",
    "    times.append(time_dijkstra(graph))\n",
    "\n",
    "print(times)"
   ]
  },
  {
   "cell_type": "code",
   "execution_count": 19,
   "id": "8c302cf4-14e6-4454-9a85-dc20a6f12d17",
   "metadata": {},
   "outputs": [
    {
     "name": "stdout",
     "output_type": "stream",
     "text": [
      "3.981184959411621e-05\n"
     ]
    }
   ],
   "source": [
    "random_time = []\n",
    "# for E in range(2000,7100):\n",
    "#     graph = create_adjacency_list_random(500, E)    \n",
    "#     random_time.append(time_dijkstra(graph))\n",
    "\n",
    "# print(sum(random_time_edges)/5100)\n",
    "\n",
    "for V in range(1000):\n",
    "    graph = create_adjacency_list_onePath(10)    \n",
    "    random_time.append(time_dijkstra(graph))\n",
    "print(sum(random_time)/1000)"
   ]
  },
  {
   "cell_type": "code",
   "execution_count": 36,
   "id": "fc9b66f8-da00-4d61-aee4-3eaf3016491d",
   "metadata": {},
   "outputs": [
    {
     "name": "stdout",
     "output_type": "stream",
     "text": [
      "6.342124938964843e-05\n"
     ]
    }
   ],
   "source": [
    "random_time = []\n",
    "\n",
    "for V in range(1000):\n",
    "    graph = create_adjacency_list_fullyConnected(10)    \n",
    "    random_time.append(time_dijkstra(graph))\n",
    "print(sum(random_time)/1000)"
   ]
  },
  {
   "cell_type": "code",
   "execution_count": 43,
   "id": "4bd8431c-cc64-4f10-a279-6499e3d4d4ee",
   "metadata": {},
   "outputs": [
    {
     "name": "stdout",
     "output_type": "stream",
     "text": [
      "6.40411376953125e-05\n"
     ]
    }
   ],
   "source": [
    "random_time = []\n",
    "\n",
    "for V in range(1000):\n",
    "    graph = create_adjacency_list_random(10)    \n",
    "    random_time.append(time_dijkstra(graph))\n",
    "print(sum(random_time)/1000)"
   ]
  },
  {
   "cell_type": "code",
   "execution_count": 51,
   "id": "415d7c3d-28f0-4bd8-9212-cc7bf662ecc4",
   "metadata": {},
   "outputs": [
    {
     "name": "stdout",
     "output_type": "stream",
     "text": [
      "0.0002627606391906738\n"
     ]
    }
   ],
   "source": [
    "random_time_best = []\n",
    "\n",
    "for V in range(1000):\n",
    "    graph = create_adjacency_list_onePath(100)    \n",
    "    random_time_best.append(time_dijkstra(graph))\n",
    "print(sum(random_time_best)/1000)"
   ]
  },
  {
   "cell_type": "code",
   "execution_count": 52,
   "id": "9e6b40b1-3aac-4b2f-929a-aed4a445fb9e",
   "metadata": {},
   "outputs": [
    {
     "ename": "KeyboardInterrupt",
     "evalue": "",
     "output_type": "error",
     "traceback": [
      "\u001b[1;31m---------------------------------------------------------------------------\u001b[0m",
      "\u001b[1;31mKeyboardInterrupt\u001b[0m                         Traceback (most recent call last)",
      "Cell \u001b[1;32mIn[52], line 4\u001b[0m\n\u001b[0;32m      1\u001b[0m random_time \u001b[38;5;241m=\u001b[39m []\n\u001b[0;32m      3\u001b[0m \u001b[38;5;28;01mfor\u001b[39;00m V \u001b[38;5;129;01min\u001b[39;00m \u001b[38;5;28mrange\u001b[39m(\u001b[38;5;241m1000\u001b[39m):\n\u001b[1;32m----> 4\u001b[0m     graph \u001b[38;5;241m=\u001b[39m \u001b[43mcreate_adjacency_list_random\u001b[49m\u001b[43m(\u001b[49m\u001b[38;5;241;43m100\u001b[39;49m\u001b[43m)\u001b[49m    \n\u001b[0;32m      5\u001b[0m     random_time\u001b[38;5;241m.\u001b[39mappend(time_dijkstra(graph))\n\u001b[0;32m      6\u001b[0m \u001b[38;5;28mprint\u001b[39m(\u001b[38;5;28msum\u001b[39m(random_time)\u001b[38;5;241m/\u001b[39m\u001b[38;5;241m1000\u001b[39m)\n",
      "Cell \u001b[1;32mIn[1], line 50\u001b[0m, in \u001b[0;36mcreate_adjacency_list_random\u001b[1;34m(num_nodes)\u001b[0m\n\u001b[0;32m     48\u001b[0m     \u001b[38;5;28;01mif\u001b[39;00m v \u001b[38;5;129;01mnot\u001b[39;00m \u001b[38;5;129;01min\u001b[39;00m adjacency_list:\n\u001b[0;32m     49\u001b[0m         adjacency_list[v] \u001b[38;5;241m=\u001b[39m []\n\u001b[1;32m---> 50\u001b[0m     \u001b[43madjacency_list\u001b[49m\u001b[43m[\u001b[49m\u001b[43mu\u001b[49m\u001b[43m]\u001b[49m\u001b[38;5;241;43m.\u001b[39;49m\u001b[43mappend\u001b[49m((v, weight))\n\u001b[0;32m     51\u001b[0m     adjacency_list[v]\u001b[38;5;241m.\u001b[39mappend((u, weight))  \u001b[38;5;66;03m# If the graph is undirected\u001b[39;00m\n\u001b[0;32m     52\u001b[0m \u001b[38;5;28;01mreturn\u001b[39;00m adjacency_list\n",
      "\u001b[1;31mKeyboardInterrupt\u001b[0m: "
     ]
    }
   ],
   "source": [
    "random_time = []\n",
    "\n",
    "for V in range(1000):\n",
    "    graph = create_adjacency_list_random(100)    \n",
    "    random_time.append(time_dijkstra(graph))\n",
    "print(sum(random_time)/1000)"
   ]
  },
  {
   "cell_type": "code",
   "execution_count": 249,
   "id": "a4ec9890-8066-428b-9cd4-5c98806ead4a",
   "metadata": {},
   "outputs": [
    {
     "name": "stdout",
     "output_type": "stream",
     "text": [
      "0.004611135244369507\n"
     ]
    }
   ],
   "source": [
    "random_time_best = []\n",
    "\n",
    "for V in range(1000):\n",
    "    graph = create_adjacency_list_fullyConnected(100)    \n",
    "    random_time_best.append(time_dijkstra(graph))\n",
    "print(sum(random_time_best)/1000)"
   ]
  },
  {
   "cell_type": "code",
   "execution_count": 250,
   "id": "18c23679-847b-4053-a412-70ae6d3fa566",
   "metadata": {},
   "outputs": [
    {
     "name": "stdout",
     "output_type": "stream",
     "text": [
      "0.0029500222206115725\n"
     ]
    }
   ],
   "source": [
    "random_time_best = []\n",
    "\n",
    "for V in range(1000):\n",
    "    graph = create_adjacency_list_onePath(1000)    \n",
    "    random_time_best.append(time_dijkstra(graph))\n",
    "print(sum(random_time_best)/1000)"
   ]
  },
  {
   "cell_type": "code",
   "execution_count": 258,
   "id": "9a938b38-c19d-47e9-8308-805e377fc411",
   "metadata": {},
   "outputs": [
    {
     "name": "stdout",
     "output_type": "stream",
     "text": [
      "0.5191574335098267\n"
     ]
    }
   ],
   "source": [
    "random_time = []\n",
    "\n",
    "for V in range(10):\n",
    "    graph = create_adjacency_list_random(1000)    \n",
    "    random_time.append(time_dijkstra(graph))\n",
    "print(sum(random_time)/10)"
   ]
  },
  {
   "cell_type": "code",
   "execution_count": 257,
   "id": "23c85b81-fa7c-4469-88f9-3acea10da883",
   "metadata": {},
   "outputs": [
    {
     "name": "stdout",
     "output_type": "stream",
     "text": [
      "0.4460029363632202\n"
     ]
    }
   ],
   "source": [
    "random_time_best = []\n",
    "\n",
    "for V in range(10):\n",
    "    graph = create_adjacency_list_fullyConnected(1000)    \n",
    "    random_time_best.append(time_dijkstra(graph))\n",
    "print(sum(random_time_best)/10)"
   ]
  },
  {
   "cell_type": "code",
   "execution_count": 259,
   "id": "60cf4549-6a21-41c0-ba37-83c2522d92cd",
   "metadata": {},
   "outputs": [
    {
     "name": "stdout",
     "output_type": "stream",
     "text": [
      "0.03216242790222168\n"
     ]
    }
   ],
   "source": [
    "random_time_best = []\n",
    "\n",
    "for V in range(10):\n",
    "    graph = create_adjacency_list_onePath(10000)    \n",
    "    random_time_best.append(time_dijkstra(graph))\n",
    "print(sum(random_time_best)/10)"
   ]
  },
  {
   "cell_type": "code",
   "execution_count": null,
   "id": "c29d1af3-4a11-453b-a59b-142994777190",
   "metadata": {},
   "outputs": [],
   "source": [
    "random_time = []\n",
    "\n",
    "# for V in range(10):\n",
    "graph = create_adjacency_list_random(10000)    \n",
    "random_time.append(time_dijkstra(graph))\n",
    "# print(sum(random_time)/10)"
   ]
  },
  {
   "cell_type": "code",
   "execution_count": null,
   "id": "58b6c0d2-ad28-45f8-98b9-c829664927f8",
   "metadata": {},
   "outputs": [],
   "source": [
    "random_time_best = []\n",
    "\n",
    "# for V in range(10):\n",
    "graph = create_adjacency_list_fullyConnected(10000)    \n",
    "random_time_best.append(time_dijkstra(graph))\n",
    "# print(sum(random_time_best)/10)"
   ]
  },
  {
   "cell_type": "code",
   "execution_count": 18,
   "id": "ac4ae449",
   "metadata": {},
   "outputs": [],
   "source": [
    "# bestCase10 = pd.read_csv(\"bestCase10_adjList.csv\")\n",
    "# avgCase10 = pd.read_csv(\"avgCase10_adjList.csv\")\n",
    "# worstCase10 = pd.read_csv(\"worstCase10_adjList.csv\")\n",
    "\n",
    "# bestCase100 = pd.read_csv(\"bestCase100_adjList.csv\")\n",
    "# avgCase100 = pd.read_csv(\"avgCase100_adjList.csv\")\n",
    "# worstCase100 = pd.read_csv(\"worstCase100_adjList.csv\")\n",
    "\n",
    "# bestCase1000 = pd.read_csv(\"bestCase1000_adjList.csv\")\n",
    "# avgCase1000 = pd.read_csv(\"avgCase1000_adjList.csv\")\n",
    "# worstCase1000 = pd.read_csv(\"worstCase1000_adjList.csv\")\n",
    "\n",
    "# bestCase10K = pd.read_csv(\"bestCase10K_adjList.csv\")\n",
    "# avgCase10K = pd.read_csv(\"avgCase10K_adjList.csv\")\n",
    "# worstCase10K = pd.read_csv(\"worstCase10K_adjList.csv\")\n",
    "\n",
    "# best10 = np.array(((pd.DataFrame(bestCase10).iloc[: , 1:]).values.tolist()))\n",
    "# avg10 = np.array(((pd.DataFrame(avgCase10).iloc[: , 1:]).values.tolist()))\n",
    "# worst10 = np.array(((pd.DataFrame(worstCase10).iloc[: , 1:]).values.tolist()))\n",
    "\n",
    "# best100 = np.array(((pd.DataFrame(bestCase100).iloc[: , 1:]).values.tolist()))\n",
    "# avg100 = np.array(((pd.DataFrame(avgCase100).iloc[: , 1:]).values.tolist()))\n",
    "# worst100 = np.array(((pd.DataFrame(worstCase100).iloc[: , 1:]).values.tolist()))\n",
    "\n",
    "# best1000 = np.array(((pd.DataFrame(bestCase1000).iloc[: , 1:]).values.tolist()))\n",
    "# avg1000 = np.array(((pd.DataFrame(avgCase1000).iloc[: , 1:]).values.tolist()))\n",
    "# worst1000 = np.array(((pd.DataFrame(worstCase1000).iloc[: , 1:]).values.tolist()))\n",
    "\n",
    "# best10K = np.array(((pd.DataFrame(bestCase10K).iloc[: , 1:]).values.tolist()))\n",
    "# avg10K = np.array(((pd.DataFrame(avgCase10K).iloc[: , 1:]).values.tolist()))\n",
    "# worst10K = np.array(((pd.DataFrame(worstCase10K).iloc[: , 1:]).values.tolist()))\n",
    "\n",
    "best10 = np.array(pd.DataFrame(bestCase10).iloc[:, 1:].values)\n",
    "avg10 = np.array(pd.DataFrame(avgCase10).iloc[:, 1:].values)\n",
    "worst10 = np.array(pd.DataFrame(worstCase10).iloc[:, 1:].values)\n",
    "\n",
    "best100 = np.array(pd.DataFrame(bestCase100).iloc[:, 1:].values)\n",
    "avg100 = np.array(pd.DataFrame(avgCase100).iloc[:, 1:].values)\n",
    "worst100 = np.array(pd.DataFrame(worstCase100).iloc[:, 1:].values)\n",
    "\n",
    "best1000 = np.array(pd.DataFrame(bestCase1000).iloc[:, 1:].values)\n",
    "avg1000 = np.array(pd.DataFrame(avgCase1000).iloc[:, 1:].values)\n",
    "worst1000 = np.array(pd.DataFrame(worstCase1000).iloc[:, 1:].values)\n",
    "\n",
    "best10K = np.array(pd.DataFrame(bestCase10K).iloc[:, 1:].values)\n",
    "avg10K = np.array(pd.DataFrame(avgCase10K).iloc[:, 1:].values)\n",
    "worst10K = np.array(pd.DataFrame(worstCase10K).iloc[:, 1:].values)"
   ]
  },
  {
   "cell_type": "code",
   "execution_count": 19,
   "id": "28d1313f",
   "metadata": {},
   "outputs": [],
   "source": [
    "# Gathering timing for all graphs\n",
    "\n",
    "# List of items to run\n",
    "run_list1 = [best10,avg10,worst10]\n",
    "run_list2 = [best100,avg100,worst100]\n",
    "run_list3 = [best1000,avg1000,worst1000]\n",
    "run_list4 = [best10K,avg10K,worst10K]\n",
    "\n",
    "all_run = [run_list1,run_list2,run_list3,run_list4]\n",
    "\n",
    "# List of time_lists to populate\n",
    "time_list1, time_list2, time_list3, time_list4 = ([] for i in range(4))\n",
    "all_time = [time_list1,time_list2,time_list3,time_list4]\n",
    "\n",
    "# Run all 10 times for consistency\n",
    "for counter in range(0,4):\n",
    "    for adjList in all_run[counter]:\n",
    "        time_taken = 0;\n",
    "        avg_time = 0;\n",
    "        for i in range(0,1000):\n",
    "            start1 = timeit.default_timer()\n",
    "            dijkstra(adjList,0)\n",
    "            run_time = timeit.default_timer()-start1\n",
    "            time_taken += run_time\n",
    "        avg_time = time_taken/1000\n",
    "        all_time[counter].append(avg_time)"
   ]
  },
  {
   "cell_type": "code",
   "execution_count": 20,
   "id": "645bbe06",
   "metadata": {},
   "outputs": [
    {
     "data": {
      "text/html": [
       "<div>\n",
       "<style scoped>\n",
       "    .dataframe tbody tr th:only-of-type {\n",
       "        vertical-align: middle;\n",
       "    }\n",
       "\n",
       "    .dataframe tbody tr th {\n",
       "        vertical-align: top;\n",
       "    }\n",
       "\n",
       "    .dataframe thead th {\n",
       "        text-align: right;\n",
       "    }\n",
       "</style>\n",
       "<table border=\"1\" class=\"dataframe\">\n",
       "  <thead>\n",
       "    <tr style=\"text-align: right;\">\n",
       "      <th></th>\n",
       "      <th>10</th>\n",
       "      <th>100</th>\n",
       "      <th>1K</th>\n",
       "      <th>10K</th>\n",
       "      <th>Case</th>\n",
       "    </tr>\n",
       "  </thead>\n",
       "  <tbody>\n",
       "    <tr>\n",
       "      <th>0</th>\n",
       "      <td>0.000005</td>\n",
       "      <td>0.000030</td>\n",
       "      <td>0.000293</td>\n",
       "      <td>0.002902</td>\n",
       "      <td>Best</td>\n",
       "    </tr>\n",
       "    <tr>\n",
       "      <th>1</th>\n",
       "      <td>0.000005</td>\n",
       "      <td>0.000030</td>\n",
       "      <td>0.000293</td>\n",
       "      <td>0.002893</td>\n",
       "      <td>Average</td>\n",
       "    </tr>\n",
       "    <tr>\n",
       "      <th>2</th>\n",
       "      <td>0.000005</td>\n",
       "      <td>0.000029</td>\n",
       "      <td>0.000295</td>\n",
       "      <td>0.002895</td>\n",
       "      <td>Worst</td>\n",
       "    </tr>\n",
       "  </tbody>\n",
       "</table>\n",
       "</div>"
      ],
      "text/plain": [
       "         10       100        1K       10K     Case\n",
       "0  0.000005  0.000030  0.000293  0.002902     Best\n",
       "1  0.000005  0.000030  0.000293  0.002893  Average\n",
       "2  0.000005  0.000029  0.000295  0.002895    Worst"
      ]
     },
     "execution_count": 20,
     "metadata": {},
     "output_type": "execute_result"
    }
   ],
   "source": [
    "case = ['Best', 'Average', 'Worst']\n",
    "results = pd.DataFrame({'10': time_list1, '100': time_list2, '1K': time_list3, '10K': time_list4, 'Case': case}, columns=['10', '100', '1K', '10K', 'Case'])\n",
    "results.head()"
   ]
  },
  {
   "cell_type": "code",
   "execution_count": 13,
   "id": "7d61e996",
   "metadata": {},
   "outputs": [
    {
     "data": {
      "text/plain": [
       "'10'"
      ]
     },
     "execution_count": 13,
     "metadata": {},
     "output_type": "execute_result"
    }
   ],
   "source": [
    "results.columns[0]"
   ]
  },
  {
   "cell_type": "code",
   "execution_count": 21,
   "id": "092dea00",
   "metadata": {},
   "outputs": [
    {
     "data": {
      "image/png": "[encoded data removed]",
      "text/plain": [
       "<Figure size 1200x700 with 4 Axes>"
      ]
     },
     "metadata": {},
     "output_type": "display_data"
    }
   ],
   "source": [
    "x = [10, 10, 10, 100, 100, 100, 1000, 1000, 1000, 10000, 10000, 10000]\n",
    "y = [0.000005, 0.000005, 0.000005, 0.000030, 0.000030, 0.000029, 0.000293, 0.000293, 0.000295, 0.002902, 0.002893, 0.002895]\n",
    "z = ['Best', 'Average', 'Worst','Best', 'Average', 'Worst','Best', 'Average', 'Worst','Best', 'Average', 'Worst']\n",
    "\n",
    "results = pd.DataFrame({'Size': x, 'Time(s)': y, 'Case': z}, columns=['Size', 'Time(s)', 'Case'])\n",
    "results_10 = results[results[\"Size\"] == 10]\n",
    "results_100 = results[results[\"Size\"] == 100]\n",
    "results_1k = results[results[\"Size\"] == 1000]\n",
    "results_10k = results[results[\"Size\"] == 10000]\n",
    "fig, axs = plt.subplots(2, 2, figsize=(12, 7))\n",
    "\n",
    "\n",
    "axs[0, 0].set_title(\"Graph Size: 10\")\n",
    "axs[0, 1].set_title(\"Graph Size: 100\")\n",
    "axs[1, 0].set_title(\"Graph Size: 1000\")\n",
    "axs[1, 1].set_title(\"Graph Size: 10,000\")\n",
    "\n",
    "\n",
    "\n",
    "sb.barplot(data=results_10, y=\"Time(s)\", x=\"Size\", hue=\"Case\", ax=axs[0, 0])\n",
    "sb.barplot(data=results_100, y=\"Time(s)\", x=\"Size\", hue=\"Case\", ax=axs[0, 1])\n",
    "sb.barplot(data=results_1k, y=\"Time(s)\", x=\"Size\", hue=\"Case\", ax=axs[1, 0])\n",
    "sb.barplot(data=results_10k, y=\"Time(s)\", x=\"Size\", hue=\"Case\", ax=axs[1, 1])\n",
    "\n",
    "plt.tight_layout()"
   ]
  },
  {
   "cell_type": "code",
   "execution_count": null,
   "id": "f0dba9b5",
   "metadata": {},
   "outputs": [],
   "source": []
  }
 ],
 "metadata": {
  "kernelspec": {
   "display_name": "Python 3 (ipykernel)",
   "language": "python",
   "name": "python3"
  },
  "language_info": {
   "codemirror_mode": {
    "name": "ipython",
    "version": 3
   },
   "file_extension": ".py",
   "mimetype": "text/x-python",
   "name": "python",
   "nbconvert_exporter": "python",
   "pygments_lexer": "ipython3",
   "version": "3.9.18"
  }
 },
 "nbformat": 4,
 "nbformat_minor": 5
}
