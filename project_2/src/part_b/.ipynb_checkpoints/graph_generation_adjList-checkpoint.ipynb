{
 "cells": [
  {
   "cell_type": "code",
   "execution_count": 1,
   "id": "5fcc0b79",
   "metadata": {},
   "outputs": [
    {
     "name": "stdout",
     "output_type": "stream",
     "text": [
      "Intel MKL WARNING: Support of Intel(R) Streaming SIMD Extensions 4.2 (Intel(R) SSE4.2) enabled only processors has been deprecated. Intel oneAPI Math Kernel Library 2025.0 will require Intel(R) Advanced Vector Extensions (Intel(R) AVX) instructions.\n",
      "Intel MKL WARNING: Support of Intel(R) Streaming SIMD Extensions 4.2 (Intel(R) SSE4.2) enabled only processors has been deprecated. Intel oneAPI Math Kernel Library 2025.0 will require Intel(R) Advanced Vector Extensions (Intel(R) AVX) instructions.\n"
     ]
    }
   ],
   "source": [
    "# Import Libraries\n",
    "import random \n",
    "import pandas as pd"
   ]
  },
  {
   "cell_type": "markdown",
   "id": "2ce439b8",
   "metadata": {},
   "source": [
    "# Generate Graph (Directed) Inputs | 3 Cases\n",
    "\n",
    "# Case 1: One Path\n",
    "\n",
    "This case represents a directed graph where each vertex is connected to the next vertex in a cycle. It's a simple yet structured graph that exhibits a clear pattern of connectivity.\n",
    "\n",
    "# Case 2: Random\n",
    "\n",
    "This case represents a directed graph with random connections between vertices. It lacks a specific pattern or structure and is more representative of real-world networks where connections may be arbitrary or unpredictable.\n",
    "Random graphs are useful for studying the behavior of algorithms or processes in a more chaotic or stochastic environment.\n",
    "Analyzing random graphs helps in understanding the properties of networks where connections are formed through probabilistic processes.\n",
    "\n",
    "# Case 3: Complete\n",
    "\n",
    "This case represents a directed graph where each vertex is connected to every other vertex. It's a highly structured and dense graph.\n"
   ]
  },
  {
   "cell_type": "code",
   "execution_count": 2,
   "id": "81d65288",
   "metadata": {},
   "outputs": [],
   "source": [
    "#The Graph class is defined to represent graphs and perform operations on them.\n",
    "\n",
    "class Graph():\n",
    "    # Constructor \n",
    "    def __init__(self, vertices):\n",
    "        self.V = vertices    # Number Of Vertices\n",
    "        self.adjMatrix1 = [] # Case 1\n",
    "        self.adjMatrix2 = [] # Case 2\n",
    "        self.adjMatrix3 = [] # Case 3\n",
    "        \n",
    "        self.edges1 = 0 # Case 1\n",
    "        self.edges2 = 0 # Case 2\n",
    "        self.edges3 = 0 # Case 3\n",
    "    \n",
    "    # Generate The Graphs | Adjacency Matrix Representation\n",
    "    # Edges Will Take On A Value From 1-50 For All Graphs Regardless Of Graph Size\n",
    "    \n",
    "    def generateGraph(self):\n",
    "        # One Path | Case 1\n",
    "        # 1->2->3...->n->1\n",
    "        self.adjMatrix1 = [[0 for column in range(self.V)] for row in range(self.V)]\n",
    "        for i in range(self.V):\n",
    "            self.adjMatrix1[i][(i+1)%self.V] = random.randint(1, 50)\n",
    "        self.edges1 = self.V # Essentially a cycle\n",
    "        \n",
    "        # Random | Case 2\n",
    "        self.adjMatrix2 = [[0 for column in range(self.V)] for row in range(self.V)]\n",
    "        edges = random.randint(1, self.V * (self.V-1))\n",
    "        self.edges2 = edges # Set the edge count\n",
    "        while(edges > 0):\n",
    "            v1 = random.randint(0, self.V-1)\n",
    "            v2 = random.randint(0, self.V-1)\n",
    "            \n",
    "            if v1 != v2 and self.adjMatrix2[v1][v2] == 0:\n",
    "                self.adjMatrix2[v1][v2] = random.randint(1, 50)\n",
    "                edges-=1\n",
    "                \n",
    "        # Complete | Case 3\n",
    "        # Complete Graph So Every Node Is Connected To Every Other Node\n",
    "        self.adjMatrix3 = [[0 for column in range(self.V)] for row in range(self.V)]\n",
    "        for i in range(self.V):\n",
    "            for j in range(self.V):\n",
    "                if i != j:\n",
    "                    self.adjMatrix3[i][j] = random.randint(1, 50)\n",
    "        self.edges3 = self.V*(self.V-1) # Every edge is connected to every other edge\n",
    "    \n",
    "    # Print Matrix (Check)\n",
    "    def getMatrix(self):\n",
    "        print(\"Adjacency Matrix Case 1\")\n",
    "        print(self.adjMatrix1)\n",
    "        print(\"Adjacency Matrix Case 2\")\n",
    "        print(self.adjMatrix2)\n",
    "        print(\"Adjacency Matrix Case 3\")\n",
    "        print(self.adjMatrix3)"
   ]
  },
  {
   "cell_type": "markdown",
   "id": "0b7aa6af",
   "metadata": {},
   "source": [
    "By generating these three cases of graphs, We can perform comparative analyses to understand how different graph structures impact the Dijkstra algorithm. It provides a comprehensive view of graph behavior across different connectivity patterns, from highly structured to random."
   ]
  },
  {
   "cell_type": "code",
   "execution_count": 4,
   "id": "821b3b2e",
   "metadata": {},
   "outputs": [],
   "source": [
    "# 10 Vertices\n",
    "g10 = Graph(10)\n",
    "g10.generateGraph()\n",
    "# 100 Vertices\n",
    "g100 = Graph(100)\n",
    "g100.generateGraph()\n",
    "# 1000 Vertices\n",
    "g1000 = Graph(1000)\n",
    "g1000.generateGraph()\n",
    "# 10K Vertices\n",
    "g10K = Graph(10000)\n",
    "g10K.generateGraph()"
   ]
  },
  {
   "cell_type": "code",
   "execution_count": 5,
   "id": "6f4f5060",
   "metadata": {},
   "outputs": [],
   "source": [
    "# Convert 2D Arrays To DataFrame\n",
    "bestCase10 =  pd.DataFrame(g10.adjMatrix1)\n",
    "avgCase10 = pd.DataFrame(g10.adjMatrix2)\n",
    "worstCase10 = pd.DataFrame(g10.adjMatrix3)\n",
    "\n",
    "bestCase100 =  pd.DataFrame(g100.adjMatrix1)\n",
    "avgCase100 = pd.DataFrame(g100.adjMatrix2)\n",
    "worstCase100 = pd.DataFrame(g100.adjMatrix3)\n",
    "\n",
    "bestCase1000 =  pd.DataFrame(g1000.adjMatrix1)\n",
    "avgCase1000 = pd.DataFrame(g1000.adjMatrix2)\n",
    "worstCase1000 = pd.DataFrame(g1000.adjMatrix3)\n",
    "\n",
    "bestCase10K =  pd.DataFrame(g10K.adjMatrix1)\n",
    "avgCase10K = pd.DataFrame(g10K.adjMatrix2)\n",
    "worstCase10K = pd.DataFrame(g10K.adjMatrix3)\n",
    "\n",
    "# Convert DataFrames To CSV Files\n",
    "bestCase10.to_csv(\"bestCase10.csv\")\n",
    "avgCase10.to_csv(\"avgCase10.csv\")\n",
    "worstCase10.to_csv(\"worstCase10.csv\")\n",
    "\n",
    "bestCase100.to_csv(\"bestCase100.csv\")\n",
    "avgCase100.to_csv(\"avgCase100.csv\")\n",
    "worstCase100.to_csv(\"worstCase100.csv\")\n",
    "\n",
    "bestCase1000.to_csv(\"bestCase1000.csv\")\n",
    "avgCase1000.to_csv(\"avgCase1000.csv\")\n",
    "worstCase1000.to_csv(\"worstCase1000.csv\")\n",
    "\n",
    "\n",
    "bestCase10K.to_csv(\"bestCase10K.csv\")\n",
    "avgCase10K.to_csv(\"avgCase10K.csv\")\n",
    "worstCase10K.to_csv(\"worstCase10K.csv\")"
   ]
  },
  {
   "cell_type": "code",
   "execution_count": 6,
   "id": "419a9747",
   "metadata": {},
   "outputs": [],
   "source": [
    "g10e = [g10.edges1, g10.edges2, g10.edges3]\n",
    "g100e = [g100.edges1, g100.edges2, g100.edges3]\n",
    "g1000e = [g1000.edges1, g1000.edges2, g1000.edges3]\n",
    "g10Ke = [g10K.edges1, g10K.edges2, g10K.edges3]\n",
    "\n",
    "case = ['Best', 'Average', 'Worst']\n",
    "results = pd.DataFrame({'Case': case, '10': g10e, '100': g100e, '1K': g1000e, '10K': g10Ke}, \n",
    "                       columns=['Case','10', '100', '1K', '10K'])\n"
   ]
  },
  {
   "cell_type": "code",
   "execution_count": 7,
   "id": "b958c354",
   "metadata": {},
   "outputs": [
    {
     "data": {
      "text/html": [
       "<div>\n",
       "<style scoped>\n",
       "    .dataframe tbody tr th:only-of-type {\n",
       "        vertical-align: middle;\n",
       "    }\n",
       "\n",
       "    .dataframe tbody tr th {\n",
       "        vertical-align: top;\n",
       "    }\n",
       "\n",
       "    .dataframe thead th {\n",
       "        text-align: right;\n",
       "    }\n",
       "</style>\n",
       "<table border=\"1\" class=\"dataframe\">\n",
       "  <thead>\n",
       "    <tr style=\"text-align: right;\">\n",
       "      <th></th>\n",
       "      <th>Case</th>\n",
       "      <th>10</th>\n",
       "      <th>100</th>\n",
       "      <th>1K</th>\n",
       "      <th>10K</th>\n",
       "    </tr>\n",
       "  </thead>\n",
       "  <tbody>\n",
       "    <tr>\n",
       "      <th>0</th>\n",
       "      <td>Best</td>\n",
       "      <td>10</td>\n",
       "      <td>100</td>\n",
       "      <td>1000</td>\n",
       "      <td>10000</td>\n",
       "    </tr>\n",
       "    <tr>\n",
       "      <th>1</th>\n",
       "      <td>Average</td>\n",
       "      <td>81</td>\n",
       "      <td>9318</td>\n",
       "      <td>229307</td>\n",
       "      <td>61737695</td>\n",
       "    </tr>\n",
       "    <tr>\n",
       "      <th>2</th>\n",
       "      <td>Worst</td>\n",
       "      <td>90</td>\n",
       "      <td>9900</td>\n",
       "      <td>999000</td>\n",
       "      <td>99990000</td>\n",
       "    </tr>\n",
       "  </tbody>\n",
       "</table>\n",
       "</div>"
      ],
      "text/plain": [
       "      Case  10   100      1K       10K\n",
       "0     Best  10   100    1000     10000\n",
       "1  Average  81  9318  229307  61737695\n",
       "2    Worst  90  9900  999000  99990000"
      ]
     },
     "execution_count": 7,
     "metadata": {},
     "output_type": "execute_result"
    }
   ],
   "source": [
    "results.head()"
   ]
  },
  {
   "cell_type": "markdown",
   "id": "6449a9d4",
   "metadata": {},
   "source": [
    "Results above correspond to the number of edges.\n",
    "\n",
    "Best case will correspond to number of vertices e.g 1->2->3->1, 3V & 3E.\n",
    "\n",
    "Average case will vary.\n",
    "\n",
    "Worst case will correspond to V*(V-1) because every vertice will have an edge to every other vertex EXCEPT itself."
   ]
  },
  {
   "cell_type": "code",
   "execution_count": null,
   "id": "b34aee4a",
   "metadata": {},
   "outputs": [],
   "source": []
  }
 ],
 "metadata": {
  "kernelspec": {
   "display_name": "Python 3 (ipykernel)",
   "language": "python",
   "name": "python3"
  },
  "language_info": {
   "codemirror_mode": {
    "name": "ipython",
    "version": 3
   },
   "file_extension": ".py",
   "mimetype": "text/x-python",
   "name": "python",
   "nbconvert_exporter": "python",
   "pygments_lexer": "ipython3",
   "version": "3.9.18"
  }
 },
 "nbformat": 4,
 "nbformat_minor": 5
}
